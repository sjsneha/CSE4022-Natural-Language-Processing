{
 "cells": [
  {
   "cell_type": "markdown",
   "id": "04d8e3bd",
   "metadata": {},
   "source": [
    "# NLTK Hands On Day 5\n",
    "\n",
    "# Details:17-02-2023\n",
    "\n",
    "# Topic: Vectorizing "
   ]
  },
  {
   "cell_type": "code",
   "execution_count": 1,
   "id": "1e3b7dc2",
   "metadata": {},
   "outputs": [],
   "source": [
    "from sklearn.feature_extraction.text import CountVectorizer\n",
    "vect=CountVectorizer(binary=True)"
   ]
  },
  {
   "cell_type": "code",
   "execution_count": 2,
   "id": "83d0414b",
   "metadata": {},
   "outputs": [],
   "source": [
    "corpus=[\"NLP is awesome\",\"I want to start aN NLP Company\",\"Top unicorns use NLP\"]"
   ]
  },
  {
   "cell_type": "code",
   "execution_count": 3,
   "id": "525682a5",
   "metadata": {},
   "outputs": [
    {
     "data": {
      "text/plain": [
       "CountVectorizer(binary=True)"
      ]
     },
     "execution_count": 3,
     "metadata": {},
     "output_type": "execute_result"
    }
   ],
   "source": [
    "vect.fit(corpus)"
   ]
  },
  {
   "cell_type": "code",
   "execution_count": 4,
   "id": "7408fed7",
   "metadata": {},
   "outputs": [],
   "source": [
    "vocab=vect.vocabulary_  #Attribute"
   ]
  },
  {
   "cell_type": "code",
   "execution_count": 7,
   "id": "a28fc6ea",
   "metadata": {},
   "outputs": [
    {
     "name": "stdout",
     "output_type": "stream",
     "text": [
      "an:0\n",
      "awesome:1\n",
      "company:2\n",
      "is:3\n",
      "nlp:4\n",
      "start:5\n",
      "to:6\n",
      "top:7\n",
      "unicorns:8\n",
      "use:9\n",
      "want:10\n"
     ]
    }
   ],
   "source": [
    "for key in sorted(vocab.keys()):\n",
    "    print(\"{}:{}\".format(key,vocab[key]))"
   ]
  },
  {
   "cell_type": "code",
   "execution_count": 9,
   "id": "a4f1b3c8",
   "metadata": {},
   "outputs": [
    {
     "data": {
      "text/plain": [
       "array([[1, 1, 1, 0, 1, 0, 0, 0, 0, 0, 0]], dtype=int64)"
      ]
     },
     "execution_count": 9,
     "metadata": {},
     "output_type": "execute_result"
    }
   ],
   "source": [
    "vect.transform([\"I have an awesome NLP Company worth an awesome billion\"]).toarray() #Transform function to compare if the word is present or not."
   ]
  },
  {
   "cell_type": "code",
   "execution_count": 27,
   "id": "caeb8d2e",
   "metadata": {},
   "outputs": [],
   "source": [
    "#Cosine btw two angles btw 0-180 degresss, we see if the angle is acute it is closer to each other so it has higher plagarism. If they are far i.e. 180 degree then it is less plagarised.\n",
    "#It looks for the commanality of words."
   ]
  },
  {
   "cell_type": "code",
   "execution_count": 28,
   "id": "f76c550c",
   "metadata": {},
   "outputs": [],
   "source": [
    "from sklearn.metrics.pairwise import cosine_similarity\n",
    "similarity=cosine_similarity((vect.transform([\"ML is an elective\"]).toarray()),vect.transform([\"Airbnb uses NLP Techniques\"]).toarray())"
   ]
  },
  {
   "cell_type": "code",
   "execution_count": 29,
   "id": "094322af",
   "metadata": {},
   "outputs": [],
   "source": [
    "#By removing toarray()\n",
    "from sklearn.metrics.pairwise import cosine_similarity\n",
    "similarity=cosine_similarity(vect.transform([\"ML is an elective\"]),vect.transform([\"Airbnb uses NLP Techniques\"]))"
   ]
  },
  {
   "cell_type": "code",
   "execution_count": 30,
   "id": "76dfa485",
   "metadata": {},
   "outputs": [
    {
     "name": "stdout",
     "output_type": "stream",
     "text": [
      "[[0.]]\n"
     ]
    }
   ],
   "source": [
    "print(similarity)"
   ]
  },
  {
   "cell_type": "code",
   "execution_count": 25,
   "id": "6f1cb26f",
   "metadata": {},
   "outputs": [
    {
     "data": {
      "text/plain": [
       "array([[1, 0, 0, 1, 0, 0, 0, 0, 0, 0, 0]], dtype=int64)"
      ]
     },
     "execution_count": 25,
     "metadata": {},
     "output_type": "execute_result"
    }
   ],
   "source": [
    "vect.transform([\"ML is an elective\"]).toarray()"
   ]
  },
  {
   "cell_type": "code",
   "execution_count": 31,
   "id": "21bbbb9e",
   "metadata": {},
   "outputs": [
    {
     "data": {
      "text/plain": [
       "array([[0, 0, 0, 0, 1, 0, 0, 0, 0, 0, 0]], dtype=int64)"
      ]
     },
     "execution_count": 31,
     "metadata": {},
     "output_type": "execute_result"
    }
   ],
   "source": [
    "vect.transform([\"Airbnb uses NLP Techniques\"]).toarray()"
   ]
  },
  {
   "cell_type": "code",
   "execution_count": 35,
   "id": "843674b9",
   "metadata": {},
   "outputs": [
    {
     "data": {
      "text/plain": [
       "array(['and', 'document', 'first', 'is', 'one', 'second', 'the', 'third',\n",
       "       'this'], dtype=object)"
      ]
     },
     "execution_count": 35,
     "metadata": {},
     "output_type": "execute_result"
    }
   ],
   "source": [
    "#use Tfidf vectorizer instead of Count Vectorizer\n",
    "#sklearn.feature_extraction.text.TfidfVectorizer\n",
    "#Vectorize any speech of Barak Obama.\n",
    "#NatGeo- natgeotraveller.in- Make a corpus and find similarity between two articles of a writer, if she is an origialwriter or not.\n",
    "from sklearn.feature_extraction.text import TfidfVectorizer\n",
    "corpus = [\n",
    "'This is the first document.',\n",
    "'This document is the second document.',\n",
    "'And this is the third one.',\n",
    "'Is this the first document?',\n",
    "]\n",
    "vectorizer = TfidfVectorizer()\n",
    "X = vectorizer.fit_transform(corpus)\n",
    "vectorizer.get_feature_names_out()"
   ]
  },
  {
   "cell_type": "code",
   "execution_count": 36,
   "id": "96bc2b9b",
   "metadata": {},
   "outputs": [
    {
     "name": "stdout",
     "output_type": "stream",
     "text": [
      "(4, 9)\n"
     ]
    }
   ],
   "source": [
    "print(X.shape)"
   ]
  },
  {
   "cell_type": "code",
   "execution_count": null,
   "id": "e72a3dcc",
   "metadata": {},
   "outputs": [],
   "source": [
    "#Take 1st para of first 5 articles, in natgeo\n",
    "#Writer- Lakshmi Sankaran \n",
    "#Check also who is a better writer in btw 2 people.Check for teh similarity value.If tge similarity value is less that person is a better writer."
   ]
  }
 ],
 "metadata": {
  "kernelspec": {
   "display_name": "Python 3 (ipykernel)",
   "language": "python",
   "name": "python3"
  },
  "language_info": {
   "codemirror_mode": {
    "name": "ipython",
    "version": 3
   },
   "file_extension": ".py",
   "mimetype": "text/x-python",
   "name": "python",
   "nbconvert_exporter": "python",
   "pygments_lexer": "ipython3",
   "version": "3.8.12"
  }
 },
 "nbformat": 4,
 "nbformat_minor": 5
}
